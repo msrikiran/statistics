{
 "cells": [
  {
   "cell_type": "code",
   "execution_count": 1,
   "metadata": {
    "executionInfo": {
     "elapsed": 1572,
     "status": "ok",
     "timestamp": 1608641653393,
     "user": {
      "displayName": "Srinivas Gurrala",
      "photoUrl": "",
      "userId": "12138918910797044839"
     },
     "user_tz": -330
    },
    "id": "iRjXwM84gPL1"
   },
   "outputs": [],
   "source": [
    "from scipy import stats\n",
    "import pandas as pd\n",
    "import numpy as np\n"
   ]
  },
  {
   "cell_type": "code",
   "execution_count": 2,
   "metadata": {
    "executionInfo": {
     "elapsed": 983,
     "status": "ok",
     "timestamp": 1608641661977,
     "user": {
      "displayName": "Srinivas Gurrala",
      "photoUrl": "",
      "userId": "12138918910797044839"
     },
     "user_tz": -330
    },
    "id": "fCUXCbwGgPMF"
   },
   "outputs": [
    {
     "name": "stdout",
     "output_type": "stream",
     "text": [
      "Gain at 95% confidence interval is: [-0.0258   0.02657]\n"
     ]
    }
   ],
   "source": [
    "df=pd.read_csv('glaxo_df.csv')\n",
    "df_conf_intvl = stats.norm.interval(alpha = 0.95,\n",
    "                                      loc = df.gain.mean(),\n",
    "                                      scale = df.gain.std())\n",
    "print( 'Gain at 95% confidence interval is:', np.round(df_conf_intvl,5))"
   ]
  },
  {
   "cell_type": "code",
   "execution_count": 3,
   "metadata": {
    "executionInfo": {
     "elapsed": 1033,
     "status": "ok",
     "timestamp": 1608641742765,
     "user": {
      "displayName": "Srinivas Gurrala",
      "photoUrl": "",
      "userId": "12138918910797044839"
     },
     "user_tz": -330
    },
    "id": "pF3i1GncgPMK"
   },
   "outputs": [
    {
     "name": "stdout",
     "output_type": "stream",
     "text": [
      "Gain at 95% confidence interval is: [-0.05153  0.05207]\n"
     ]
    }
   ],
   "source": [
    "df_beml=pd.read_csv('beml_df.csv')\n",
    "\n",
    "df_beml_conf_intvl = stats.norm.interval(alpha = 0.95,\n",
    "                                            loc = df_beml.gain.mean(),\n",
    "                                            scale=df_beml.gain.std())\n",
    "print( 'Gain at 95% confidence interval is:', np.round(df_beml_conf_intvl,5))"
   ]
  },
  {
   "cell_type": "code",
   "execution_count": null,
   "metadata": {},
   "outputs": [],
   "source": []
  }
 ],
 "metadata": {
  "colab": {
   "name": "Confidence Interval.ipynb",
   "provenance": []
  },
  "kernelspec": {
   "display_name": "Python 3",
   "language": "python",
   "name": "python3"
  },
  "language_info": {
   "codemirror_mode": {
    "name": "ipython",
    "version": 3
   },
   "file_extension": ".py",
   "mimetype": "text/x-python",
   "name": "python",
   "nbconvert_exporter": "python",
   "pygments_lexer": "ipython3",
   "version": "3.8.5"
  }
 },
 "nbformat": 4,
 "nbformat_minor": 1
}
